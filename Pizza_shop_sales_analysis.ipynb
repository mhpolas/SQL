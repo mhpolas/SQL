{
  "cells": [
    {
      "cell_type": "code",
      "execution_count": null,
      "id": "01aa5b08",
      "metadata": {
        "id": "01aa5b08",
        "outputId": "eb1243d7-55fc-4ab5-cf4a-5747e13f9c64"
      },
      "outputs": [
        {
          "name": "stdout",
          "output_type": "stream",
          "text": [
            "The sql extension is already loaded. To reload it, use:\n",
            "  %reload_ext sql\n"
          ]
        }
      ],
      "source": [
        "%load_ext sql\n",
        "import pandas as pd\n",
        "import pyodbc\n",
        "import sqlalchemy\n",
        "import urllib\n",
        "\n"
      ]
    },
    {
      "cell_type": "code",
      "execution_count": null,
      "id": "29ab6c9e",
      "metadata": {
        "id": "29ab6c9e"
      },
      "outputs": [],
      "source": [
        "server_name = '####'  # If SQL Server is on the same machine\n",
        "database_name = '####'\n",
        "username = '####'\n",
        "password = '####'\n",
        "\n",
        "connection_string = f'DRIVER=ODBC Driver 17 for SQL Server;SERVER={server_name};DATABASE={database_name};UID={username};PWD={password}'\n",
        "conn = pyodbc.connect(connection_string)\n"
      ]
    },
    {
      "cell_type": "code",
      "execution_count": null,
      "id": "350b0cbc",
      "metadata": {
        "id": "350b0cbc"
      },
      "outputs": [],
      "source": [
        "#query='select top 10 * from pizza_sales'\n",
        "#df=pd.read_sql(query,conn)\n",
        "#df.head()"
      ]
    },
    {
      "cell_type": "code",
      "execution_count": null,
      "id": "28474af2",
      "metadata": {
        "id": "28474af2",
        "outputId": "f4c5fd15-aedf-4f7e-c48f-9bf58f9d371f"
      },
      "outputs": [
        {
          "data": {
            "text/plain": [
              "'Connected: @'"
            ]
          },
          "execution_count": 56,
          "metadata": {},
          "output_type": "execute_result"
        }
      ],
      "source": [
        "#connection_string = \"DRIVER={SQL SERVER};SERVER=server_name;DATABASE=database_name;TRUSTED_CONNECTION=YES;UID=username;PWD=password\"\n",
        "connection_str_quoted = urllib.parse.quote_plus(connection_string)\n",
        "connection_uri = 'mssql+pyodbc:///?odbc_connect={}'.format(connection_str_quoted)\n",
        "conn = sqlalchemy.create_engine(connection_uri)\n",
        "\n",
        "%sql {connection_uri}"
      ]
    },
    {
      "cell_type": "code",
      "execution_count": null,
      "id": "fe43bfb3",
      "metadata": {
        "id": "fe43bfb3",
        "outputId": "6fc152b8-afc0-4c9a-d9d2-be2a529737a4"
      },
      "outputs": [
        {
          "name": "stdout",
          "output_type": "stream",
          "text": [
            " * mssql+pyodbc:///?odbc_connect=DRIVER%3DODBC+Driver+17+for+SQL+Server%3BSERVER%3Dmhpolas.database.windows.net%3BDATABASE%3Dsql_practice%3BUID%3Dmhpolas%3BPWD%3D%40VBHMAINULH786\n",
            "Done.\n"
          ]
        },
        {
          "data": {
            "text/html": [
              "<table>\n",
              "    <thead>\n",
              "        <tr>\n",
              "            <th>pizza_id</th>\n",
              "            <th>order_id</th>\n",
              "            <th>pizza_name_id</th>\n",
              "            <th>quantity</th>\n",
              "            <th>order_date</th>\n",
              "            <th>order_time</th>\n",
              "            <th>unit_price</th>\n",
              "            <th>total_price</th>\n",
              "            <th>pizza_size</th>\n",
              "            <th>pizza_category</th>\n",
              "            <th>pizza_ingredients</th>\n",
              "            <th>pizza_name</th>\n",
              "        </tr>\n",
              "    </thead>\n",
              "    <tbody>\n",
              "        <tr>\n",
              "            <td>1</td>\n",
              "            <td>1</td>\n",
              "            <td>hawaiian_m</td>\n",
              "            <td>1</td>\n",
              "            <td>2015-01-01</td>\n",
              "            <td>11:38:36</td>\n",
              "            <td>13.25</td>\n",
              "            <td>13.25</td>\n",
              "            <td>M</td>\n",
              "            <td>Classic</td>\n",
              "            <td>Sliced Ham, Pineapple, Mozzarella Cheese</td>\n",
              "            <td>The Hawaiian Pizza</td>\n",
              "        </tr>\n",
              "        <tr>\n",
              "            <td>2</td>\n",
              "            <td>2</td>\n",
              "            <td>classic_dlx_m</td>\n",
              "            <td>1</td>\n",
              "            <td>2015-01-01</td>\n",
              "            <td>11:57:40</td>\n",
              "            <td>16.0</td>\n",
              "            <td>16.0</td>\n",
              "            <td>M</td>\n",
              "            <td>Classic</td>\n",
              "            <td>Pepperoni, Mushrooms, Red Onions, Red Peppers, Bacon</td>\n",
              "            <td>The Classic Deluxe Pizza</td>\n",
              "        </tr>\n",
              "        <tr>\n",
              "            <td>3</td>\n",
              "            <td>2</td>\n",
              "            <td>five_cheese_l</td>\n",
              "            <td>1</td>\n",
              "            <td>2015-01-01</td>\n",
              "            <td>11:57:40</td>\n",
              "            <td>18.5</td>\n",
              "            <td>18.5</td>\n",
              "            <td>L</td>\n",
              "            <td>Veggie</td>\n",
              "            <td>Mozzarella Cheese, Provolone Cheese, Smoked Gouda Cheese, Romano Cheese, Blue Cheese, Garlic</td>\n",
              "            <td>The Five Cheese Pizza</td>\n",
              "        </tr>\n",
              "        <tr>\n",
              "            <td>4</td>\n",
              "            <td>2</td>\n",
              "            <td>ital_supr_l</td>\n",
              "            <td>1</td>\n",
              "            <td>2015-01-01</td>\n",
              "            <td>11:57:40</td>\n",
              "            <td>20.75</td>\n",
              "            <td>20.75</td>\n",
              "            <td>L</td>\n",
              "            <td>Supreme</td>\n",
              "            <td>Calabrese Salami, Capocollo, Tomatoes, Red Onions, Green Olives, Garlic</td>\n",
              "            <td>The Italian Supreme Pizza</td>\n",
              "        </tr>\n",
              "        <tr>\n",
              "            <td>5</td>\n",
              "            <td>2</td>\n",
              "            <td>mexicana_m</td>\n",
              "            <td>1</td>\n",
              "            <td>2015-01-01</td>\n",
              "            <td>11:57:40</td>\n",
              "            <td>16.0</td>\n",
              "            <td>16.0</td>\n",
              "            <td>M</td>\n",
              "            <td>Veggie</td>\n",
              "            <td>Tomatoes, Red Peppers, Jalapeno Peppers, Red Onions, Cilantro, Corn, Chipotle Sauce, Garlic</td>\n",
              "            <td>The Mexicana Pizza</td>\n",
              "        </tr>\n",
              "    </tbody>\n",
              "</table>"
            ],
            "text/plain": [
              "[(1, 1, 'hawaiian_m', 1, datetime.date(2015, 1, 1), datetime.time(11, 38, 36), 13.25, 13.25, 'M', 'Classic', 'Sliced Ham, Pineapple, Mozzarella Cheese', 'The Hawaiian Pizza'),\n",
              " (2, 2, 'classic_dlx_m', 1, datetime.date(2015, 1, 1), datetime.time(11, 57, 40), 16.0, 16.0, 'M', 'Classic', 'Pepperoni, Mushrooms, Red Onions, Red Peppers, Bacon', 'The Classic Deluxe Pizza'),\n",
              " (3, 2, 'five_cheese_l', 1, datetime.date(2015, 1, 1), datetime.time(11, 57, 40), 18.5, 18.5, 'L', 'Veggie', 'Mozzarella Cheese, Provolone Cheese, Smoked Gouda Cheese, Romano Cheese, Blue Cheese, Garlic', 'The Five Cheese Pizza'),\n",
              " (4, 2, 'ital_supr_l', 1, datetime.date(2015, 1, 1), datetime.time(11, 57, 40), 20.75, 20.75, 'L', 'Supreme', 'Calabrese Salami, Capocollo, Tomatoes, Red Onions, Green Olives, Garlic', 'The Italian Supreme Pizza'),\n",
              " (5, 2, 'mexicana_m', 1, datetime.date(2015, 1, 1), datetime.time(11, 57, 40), 16.0, 16.0, 'M', 'Veggie', 'Tomatoes, Red Peppers, Jalapeno Peppers, Red Onions, Cilantro, Corn, Chipotle Sauce, Garlic', 'The Mexicana Pizza')]"
            ]
          },
          "execution_count": 57,
          "metadata": {},
          "output_type": "execute_result"
        }
      ],
      "source": [
        "%%sql\n",
        "select top 5 * from pizza_sales\n",
        "\n"
      ]
    },
    {
      "cell_type": "markdown",
      "id": "b97fa749",
      "metadata": {
        "id": "b97fa749"
      },
      "source": []
    },
    {
      "cell_type": "markdown",
      "id": "1b9f755f",
      "metadata": {
        "id": "1b9f755f"
      },
      "source": [
        "### Total Revenue"
      ]
    },
    {
      "cell_type": "code",
      "execution_count": null,
      "id": "539e1c95",
      "metadata": {
        "scrolled": true,
        "id": "539e1c95",
        "outputId": "0436d3b6-6a85-4079-f206-8923e8a867d7"
      },
      "outputs": [
        {
          "name": "stdout",
          "output_type": "stream",
          "text": [
            " * mssql+pyodbc:///?odbc_connect=DRIVER%3DODBC+Driver+17+for+SQL+Server%3BSERVER%3Dmhpolas.database.windows.net%3BDATABASE%3Dsql_practice%3BUID%3Dmhpolas%3BPWD%3D%40VBHMAINULH786\n",
            "Done.\n"
          ]
        },
        {
          "data": {
            "text/html": [
              "<table>\n",
              "    <thead>\n",
              "        <tr>\n",
              "            <th>total_revenue</th>\n",
              "        </tr>\n",
              "    </thead>\n",
              "    <tbody>\n",
              "        <tr>\n",
              "            <td>817860.05</td>\n",
              "        </tr>\n",
              "    </tbody>\n",
              "</table>"
            ],
            "text/plain": [
              "[(817860.05,)]"
            ]
          },
          "execution_count": 103,
          "metadata": {},
          "output_type": "execute_result"
        }
      ],
      "source": [
        "%%sql\n",
        "select ROUND(SUM(total_price),2) as total_revenue from pizza_sales"
      ]
    },
    {
      "cell_type": "markdown",
      "id": "e78ee910",
      "metadata": {
        "id": "e78ee910"
      },
      "source": [
        "### Average order Value"
      ]
    },
    {
      "cell_type": "code",
      "execution_count": null,
      "id": "e8c38b89",
      "metadata": {
        "id": "e8c38b89",
        "outputId": "5c3e864a-3961-4ae3-de41-bc01d2c2c712"
      },
      "outputs": [
        {
          "name": "stdout",
          "output_type": "stream",
          "text": [
            " * mssql+pyodbc:///?odbc_connect=DRIVER%3DODBC+Driver+17+for+SQL+Server%3BSERVER%3Dmhpolas.database.windows.net%3BDATABASE%3Dsql_practice%3BUID%3Dmhpolas%3BPWD%3D%40VBHMAINULH786\n",
            "Done.\n"
          ]
        },
        {
          "data": {
            "text/html": [
              "<table>\n",
              "    <thead>\n",
              "        <tr>\n",
              "            <th>avg_order_value</th>\n",
              "        </tr>\n",
              "    </thead>\n",
              "    <tbody>\n",
              "        <tr>\n",
              "            <td>16.82</td>\n",
              "        </tr>\n",
              "    </tbody>\n",
              "</table>"
            ],
            "text/plain": [
              "[(16.82,)]"
            ]
          },
          "execution_count": 55,
          "metadata": {},
          "output_type": "execute_result"
        }
      ],
      "source": [
        "%%sql\n",
        "\n",
        "SELECT ROUND(SUM(total_price)/COUNT(order_id),2) AS avg_order_value FROM pizza_sales\n"
      ]
    },
    {
      "cell_type": "markdown",
      "id": "4946dc7a",
      "metadata": {
        "id": "4946dc7a"
      },
      "source": [
        "### Total pizza sold"
      ]
    },
    {
      "cell_type": "code",
      "execution_count": null,
      "id": "6594d27e",
      "metadata": {
        "id": "6594d27e",
        "outputId": "7850c739-75fd-47c1-f161-40a10f50b163"
      },
      "outputs": [
        {
          "name": "stdout",
          "output_type": "stream",
          "text": [
            " * mssql+pyodbc:///?odbc_connect=DRIVER%3DODBC+Driver+17+for+SQL+Server%3BSERVER%3Dmhpolas.database.windows.net%3BDATABASE%3Dsql_practice%3BUID%3Dmhpolas%3BPWD%3D%40VBHMAINULH786\n",
            "Done.\n"
          ]
        },
        {
          "data": {
            "text/html": [
              "<table>\n",
              "    <thead>\n",
              "        <tr>\n",
              "            <th>total_pizza_sold</th>\n",
              "        </tr>\n",
              "    </thead>\n",
              "    <tbody>\n",
              "        <tr>\n",
              "            <td>49574</td>\n",
              "        </tr>\n",
              "    </tbody>\n",
              "</table>"
            ],
            "text/plain": [
              "[(49574,)]"
            ]
          },
          "execution_count": 56,
          "metadata": {},
          "output_type": "execute_result"
        }
      ],
      "source": [
        "%%sql\n",
        "SELECT SUM(quantity) as total_pizza_sold from pizza_sales"
      ]
    },
    {
      "cell_type": "markdown",
      "id": "77061692",
      "metadata": {
        "id": "77061692"
      },
      "source": [
        "### Total orders"
      ]
    },
    {
      "cell_type": "code",
      "execution_count": null,
      "id": "b3d7e9ba",
      "metadata": {
        "id": "b3d7e9ba",
        "outputId": "6b59ce2e-e232-4b4a-89b8-434a616ec12f"
      },
      "outputs": [
        {
          "name": "stdout",
          "output_type": "stream",
          "text": [
            " * mssql+pyodbc:///?odbc_connect=DRIVER%3DODBC+Driver+17+for+SQL+Server%3BSERVER%3Dmhpolas.database.windows.net%3BDATABASE%3Dsql_practice%3BUID%3Dmhpolas%3BPWD%3D%40VBHMAINULH786\n",
            "Done.\n"
          ]
        },
        {
          "data": {
            "text/html": [
              "<table>\n",
              "    <thead>\n",
              "        <tr>\n",
              "            <th>total_order</th>\n",
              "        </tr>\n",
              "    </thead>\n",
              "    <tbody>\n",
              "        <tr>\n",
              "            <td>21350</td>\n",
              "        </tr>\n",
              "    </tbody>\n",
              "</table>"
            ],
            "text/plain": [
              "[(21350,)]"
            ]
          },
          "execution_count": 57,
          "metadata": {},
          "output_type": "execute_result"
        }
      ],
      "source": [
        "%%sql\n",
        "\n",
        "SELECT COUNT( DISTINCT order_id) as total_order from pizza_sales"
      ]
    },
    {
      "cell_type": "markdown",
      "id": "5df8be5d",
      "metadata": {
        "id": "5df8be5d"
      },
      "source": [
        "### Average pizza per order"
      ]
    },
    {
      "cell_type": "code",
      "execution_count": null,
      "id": "64c201b1",
      "metadata": {
        "id": "64c201b1",
        "outputId": "ec9bb951-7449-4b3c-8092-9eaded2dcf75"
      },
      "outputs": [
        {
          "name": "stdout",
          "output_type": "stream",
          "text": [
            " * mssql+pyodbc:///?odbc_connect=DRIVER%3DODBC+Driver+17+for+SQL+Server%3BSERVER%3Dmhpolas.database.windows.net%3BDATABASE%3Dsql_practice%3BUID%3Dmhpolas%3BPWD%3D%40VBHMAINULH786\n",
            "Done.\n"
          ]
        },
        {
          "data": {
            "text/html": [
              "<table>\n",
              "    <thead>\n",
              "        <tr>\n",
              "            <th>avg_pizza_per_order</th>\n",
              "        </tr>\n",
              "    </thead>\n",
              "    <tbody>\n",
              "        <tr>\n",
              "            <td>2.32</td>\n",
              "        </tr>\n",
              "    </tbody>\n",
              "</table>"
            ],
            "text/plain": [
              "[(Decimal('2.32'),)]"
            ]
          },
          "execution_count": 60,
          "metadata": {},
          "output_type": "execute_result"
        }
      ],
      "source": [
        "%%sql\n",
        "\n",
        "SELECT CAST(CAST(SUM(quantity) AS DECIMAL(10,2))/CAST(COUNT(DISTINCT order_id) AS DECIMAL(10,2)) AS DECIMAL(10,2)) AS avg_pizza_per_order from pizza_sales"
      ]
    },
    {
      "cell_type": "markdown",
      "id": "0baab5df",
      "metadata": {
        "id": "0baab5df"
      },
      "source": [
        "### Daily Trend for total order"
      ]
    },
    {
      "cell_type": "code",
      "execution_count": null,
      "id": "eb67ebf6",
      "metadata": {
        "id": "eb67ebf6",
        "outputId": "8cb805e9-5427-447c-afa7-bd83c5fdbc8d"
      },
      "outputs": [
        {
          "name": "stdout",
          "output_type": "stream",
          "text": [
            " * mssql+pyodbc:///?odbc_connect=DRIVER%3DODBC+Driver+17+for+SQL+Server%3BSERVER%3Dmhpolas.database.windows.net%3BDATABASE%3Dsql_practice%3BUID%3Dmhpolas%3BPWD%3D%40VBHMAINULH786\n",
            "Done.\n"
          ]
        },
        {
          "data": {
            "text/html": [
              "<table>\n",
              "    <thead>\n",
              "        <tr>\n",
              "            <th>weekday</th>\n",
              "            <th>order_number</th>\n",
              "        </tr>\n",
              "    </thead>\n",
              "    <tbody>\n",
              "        <tr>\n",
              "            <td>Saturday</td>\n",
              "            <td>3158</td>\n",
              "        </tr>\n",
              "        <tr>\n",
              "            <td>Wednesday</td>\n",
              "            <td>3024</td>\n",
              "        </tr>\n",
              "        <tr>\n",
              "            <td>Monday</td>\n",
              "            <td>2794</td>\n",
              "        </tr>\n",
              "        <tr>\n",
              "            <td>Sunday</td>\n",
              "            <td>2624</td>\n",
              "        </tr>\n",
              "        <tr>\n",
              "            <td>Friday</td>\n",
              "            <td>3538</td>\n",
              "        </tr>\n",
              "        <tr>\n",
              "            <td>Thursday</td>\n",
              "            <td>3239</td>\n",
              "        </tr>\n",
              "        <tr>\n",
              "            <td>Tuesday</td>\n",
              "            <td>2973</td>\n",
              "        </tr>\n",
              "    </tbody>\n",
              "</table>"
            ],
            "text/plain": [
              "[('Saturday', 3158),\n",
              " ('Wednesday', 3024),\n",
              " ('Monday', 2794),\n",
              " ('Sunday', 2624),\n",
              " ('Friday', 3538),\n",
              " ('Thursday', 3239),\n",
              " ('Tuesday', 2973)]"
            ]
          },
          "execution_count": 59,
          "metadata": {},
          "output_type": "execute_result"
        }
      ],
      "source": [
        "%%sql\n",
        "\n",
        "SELECT DATENAME(DW,order_date) as weekday, COUNT(DISTINCT order_id) as order_number\n",
        "FROM pizza_sales\n",
        "GROUP BY DATENAME(DW,order_date)\n",
        "\n"
      ]
    },
    {
      "cell_type": "markdown",
      "id": "66c31ec5",
      "metadata": {
        "id": "66c31ec5"
      },
      "source": [
        "<h3>Monthly trend for total order</h3>"
      ]
    },
    {
      "cell_type": "code",
      "execution_count": null,
      "id": "ac40c4fa",
      "metadata": {
        "id": "ac40c4fa",
        "outputId": "6e400914-b301-4447-eaae-af3d3d08a1ca"
      },
      "outputs": [
        {
          "name": "stdout",
          "output_type": "stream",
          "text": [
            " * mssql+pyodbc:///?odbc_connect=DRIVER%3DODBC+Driver+17+for+SQL+Server%3BSERVER%3Dmhpolas.database.windows.net%3BDATABASE%3Dsql_practice%3BUID%3Dmhpolas%3BPWD%3D%40VBHMAINULH786\n",
            "Done.\n"
          ]
        },
        {
          "data": {
            "text/html": [
              "<table>\n",
              "    <thead>\n",
              "        <tr>\n",
              "            <th>Monthname</th>\n",
              "            <th>order_number</th>\n",
              "        </tr>\n",
              "    </thead>\n",
              "    <tbody>\n",
              "        <tr>\n",
              "            <td>February</td>\n",
              "            <td>1685</td>\n",
              "        </tr>\n",
              "        <tr>\n",
              "            <td>August</td>\n",
              "            <td>1841</td>\n",
              "        </tr>\n",
              "        <tr>\n",
              "            <td>June</td>\n",
              "            <td>1773</td>\n",
              "        </tr>\n",
              "        <tr>\n",
              "            <td>April</td>\n",
              "            <td>1799</td>\n",
              "        </tr>\n",
              "        <tr>\n",
              "            <td>December</td>\n",
              "            <td>1680</td>\n",
              "        </tr>\n",
              "        <tr>\n",
              "            <td>January</td>\n",
              "            <td>1845</td>\n",
              "        </tr>\n",
              "        <tr>\n",
              "            <td>September</td>\n",
              "            <td>1661</td>\n",
              "        </tr>\n",
              "        <tr>\n",
              "            <td>May</td>\n",
              "            <td>1853</td>\n",
              "        </tr>\n",
              "        <tr>\n",
              "            <td>October</td>\n",
              "            <td>1646</td>\n",
              "        </tr>\n",
              "        <tr>\n",
              "            <td>November</td>\n",
              "            <td>1792</td>\n",
              "        </tr>\n",
              "        <tr>\n",
              "            <td>March</td>\n",
              "            <td>1840</td>\n",
              "        </tr>\n",
              "        <tr>\n",
              "            <td>July</td>\n",
              "            <td>1935</td>\n",
              "        </tr>\n",
              "    </tbody>\n",
              "</table>"
            ],
            "text/plain": [
              "[('February', 1685),\n",
              " ('August', 1841),\n",
              " ('June', 1773),\n",
              " ('April', 1799),\n",
              " ('December', 1680),\n",
              " ('January', 1845),\n",
              " ('September', 1661),\n",
              " ('May', 1853),\n",
              " ('October', 1646),\n",
              " ('November', 1792),\n",
              " ('March', 1840),\n",
              " ('July', 1935)]"
            ]
          },
          "execution_count": 42,
          "metadata": {},
          "output_type": "execute_result"
        }
      ],
      "source": [
        "%%sql\n",
        "\n",
        "SELECT DATENAME(MONTH,order_date) as Monthname, COUNT(DISTINCT order_id) as order_number\n",
        "FROM pizza_sales\n",
        "GROUP BY DATENAME(MONTH,order_date)\n"
      ]
    },
    {
      "cell_type": "markdown",
      "id": "d10f3086",
      "metadata": {
        "id": "d10f3086"
      },
      "source": [
        "### Percentage of sales By pizza category"
      ]
    },
    {
      "cell_type": "code",
      "execution_count": null,
      "id": "c84897aa",
      "metadata": {
        "id": "c84897aa",
        "outputId": "1c625fb4-c743-493a-be4b-da2b4984c5a4"
      },
      "outputs": [
        {
          "name": "stdout",
          "output_type": "stream",
          "text": [
            " * mssql+pyodbc:///?odbc_connect=DRIVER%3DODBC+Driver+17+for+SQL+Server%3BSERVER%3Dmhpolas.database.windows.net%3BDATABASE%3Dsql_practice%3BUID%3Dmhpolas%3BPWD%3D%40VBHMAINULH786\n",
            "Done.\n"
          ]
        },
        {
          "data": {
            "text/html": [
              "<table>\n",
              "    <thead>\n",
              "        <tr>\n",
              "            <th>pizza_category</th>\n",
              "            <th>total_revenue</th>\n",
              "            <th>PCT</th>\n",
              "        </tr>\n",
              "    </thead>\n",
              "    <tbody>\n",
              "        <tr>\n",
              "            <td>Classic</td>\n",
              "            <td>220053.1</td>\n",
              "            <td>26.91</td>\n",
              "        </tr>\n",
              "        <tr>\n",
              "            <td>Chicken</td>\n",
              "            <td>195919.5</td>\n",
              "            <td>23.96</td>\n",
              "        </tr>\n",
              "        <tr>\n",
              "            <td>Veggie</td>\n",
              "            <td>193690.45</td>\n",
              "            <td>23.68</td>\n",
              "        </tr>\n",
              "        <tr>\n",
              "            <td>Supreme</td>\n",
              "            <td>208197.0</td>\n",
              "            <td>25.46</td>\n",
              "        </tr>\n",
              "    </tbody>\n",
              "</table>"
            ],
            "text/plain": [
              "[('Classic', 220053.1, 26.91),\n",
              " ('Chicken', 195919.5, 23.96),\n",
              " ('Veggie', 193690.45, 23.68),\n",
              " ('Supreme', 208197.0, 25.46)]"
            ]
          },
          "execution_count": 50,
          "metadata": {},
          "output_type": "execute_result"
        }
      ],
      "source": [
        "%%sql\n",
        "\n",
        "SELECT pizza_category, ROUND(SUM(total_price),2)as total_revenue,\n",
        "ROUND(SUM(total_price)*100/(SELECT SUM(total_price) FROM pizza_sales),2) as PCT\n",
        "FROM pizza_sales\n",
        "GROUP BY pizza_category"
      ]
    },
    {
      "cell_type": "markdown",
      "id": "68f67a57",
      "metadata": {
        "id": "68f67a57"
      },
      "source": [
        "### Percentage of sales By pizza size"
      ]
    },
    {
      "cell_type": "code",
      "execution_count": null,
      "id": "c82f5c2c",
      "metadata": {
        "id": "c82f5c2c",
        "outputId": "082f1824-3401-4913-8e46-368a788dbcbd"
      },
      "outputs": [
        {
          "name": "stdout",
          "output_type": "stream",
          "text": [
            " * mssql+pyodbc:///?odbc_connect=DRIVER%3DODBC+Driver+17+for+SQL+Server%3BSERVER%3Dmhpolas.database.windows.net%3BDATABASE%3Dsql_practice%3BUID%3Dmhpolas%3BPWD%3D%40VBHMAINULH786\n",
            "Done.\n"
          ]
        },
        {
          "data": {
            "text/html": [
              "<table>\n",
              "    <thead>\n",
              "        <tr>\n",
              "            <th>pizza_size</th>\n",
              "            <th>total_revenue</th>\n",
              "            <th>PCT</th>\n",
              "        </tr>\n",
              "    </thead>\n",
              "    <tbody>\n",
              "        <tr>\n",
              "            <td>L</td>\n",
              "            <td>375318.7</td>\n",
              "            <td>45.89</td>\n",
              "        </tr>\n",
              "        <tr>\n",
              "            <td>XXL</td>\n",
              "            <td>1006.6</td>\n",
              "            <td>0.12</td>\n",
              "        </tr>\n",
              "        <tr>\n",
              "            <td>M</td>\n",
              "            <td>249382.25</td>\n",
              "            <td>30.49</td>\n",
              "        </tr>\n",
              "        <tr>\n",
              "            <td>XL</td>\n",
              "            <td>14076.0</td>\n",
              "            <td>1.72</td>\n",
              "        </tr>\n",
              "        <tr>\n",
              "            <td>S</td>\n",
              "            <td>178076.5</td>\n",
              "            <td>21.77</td>\n",
              "        </tr>\n",
              "    </tbody>\n",
              "</table>"
            ],
            "text/plain": [
              "[('L', 375318.7, 45.89),\n",
              " ('XXL', 1006.6, 0.12),\n",
              " ('M', 249382.25, 30.49),\n",
              " ('XL', 14076.0, 1.72),\n",
              " ('S', 178076.5, 21.77)]"
            ]
          },
          "execution_count": 52,
          "metadata": {},
          "output_type": "execute_result"
        }
      ],
      "source": [
        "%%sql\n",
        "SELECT pizza_size,ROUND(SUM(total_price),2)as total_revenue,\n",
        "ROUND(SUM(total_price)*100/(SELECT SUM(total_price) FROM pizza_sales),2) as PCT\n",
        "FROM pizza_sales\n",
        "GROUP BY pizza_size"
      ]
    },
    {
      "cell_type": "markdown",
      "id": "6a90ed43",
      "metadata": {
        "id": "6a90ed43"
      },
      "source": [
        "### Total Pizzas Sold by Pizza Category"
      ]
    },
    {
      "cell_type": "code",
      "execution_count": null,
      "id": "b5ab967f",
      "metadata": {
        "id": "b5ab967f",
        "outputId": "37e3d57e-0063-45e9-85a7-68aa6e36ecc2"
      },
      "outputs": [
        {
          "name": "stdout",
          "output_type": "stream",
          "text": [
            " * mssql+pyodbc:///?odbc_connect=DRIVER%3DODBC+Driver+17+for+SQL+Server%3BSERVER%3Dmhpolas.database.windows.net%3BDATABASE%3Dsql_practice%3BUID%3Dmhpolas%3BPWD%3D%40VBHMAINULH786\n",
            "Done.\n"
          ]
        },
        {
          "data": {
            "text/html": [
              "<table>\n",
              "    <thead>\n",
              "        <tr>\n",
              "            <th>pizza_category</th>\n",
              "            <th></th>\n",
              "        </tr>\n",
              "    </thead>\n",
              "    <tbody>\n",
              "        <tr>\n",
              "            <td>Classic</td>\n",
              "            <td>14888</td>\n",
              "        </tr>\n",
              "        <tr>\n",
              "            <td>Chicken</td>\n",
              "            <td>11050</td>\n",
              "        </tr>\n",
              "        <tr>\n",
              "            <td>Veggie</td>\n",
              "            <td>11649</td>\n",
              "        </tr>\n",
              "        <tr>\n",
              "            <td>Supreme</td>\n",
              "            <td>11987</td>\n",
              "        </tr>\n",
              "    </tbody>\n",
              "</table>"
            ],
            "text/plain": [
              "[('Classic', 14888), ('Chicken', 11050), ('Veggie', 11649), ('Supreme', 11987)]"
            ]
          },
          "execution_count": 60,
          "metadata": {},
          "output_type": "execute_result"
        }
      ],
      "source": [
        "%%sql\n",
        "\n",
        "SELECT pizza_category, SUM(quantity)\n",
        "FROM pizza_sales\n",
        "GROUP BY pizza_category"
      ]
    },
    {
      "cell_type": "markdown",
      "id": "f0e3c3ab",
      "metadata": {
        "id": "f0e3c3ab"
      },
      "source": [
        "### Top 5 Pizzas by Revenue"
      ]
    },
    {
      "cell_type": "code",
      "execution_count": null,
      "id": "1625ac87",
      "metadata": {
        "id": "1625ac87",
        "outputId": "68f37350-0d28-4825-9911-1677969fa1c1"
      },
      "outputs": [
        {
          "name": "stdout",
          "output_type": "stream",
          "text": [
            " * mssql+pyodbc:///?odbc_connect=DRIVER%3DODBC+Driver+17+for+SQL+Server%3BSERVER%3Dmhpolas.database.windows.net%3BDATABASE%3Dsql_practice%3BUID%3Dmhpolas%3BPWD%3D%40VBHMAINULH786\n",
            "Done.\n"
          ]
        },
        {
          "data": {
            "text/html": [
              "<table>\n",
              "    <thead>\n",
              "        <tr>\n",
              "            <th>pizza_name</th>\n",
              "            <th>revenue</th>\n",
              "        </tr>\n",
              "    </thead>\n",
              "    <tbody>\n",
              "        <tr>\n",
              "            <td>The Thai Chicken Pizza</td>\n",
              "            <td>43434.25</td>\n",
              "        </tr>\n",
              "        <tr>\n",
              "            <td>The Barbecue Chicken Pizza</td>\n",
              "            <td>42768.0</td>\n",
              "        </tr>\n",
              "        <tr>\n",
              "            <td>The California Chicken Pizza</td>\n",
              "            <td>41409.5</td>\n",
              "        </tr>\n",
              "        <tr>\n",
              "            <td>The Classic Deluxe Pizza</td>\n",
              "            <td>38180.5</td>\n",
              "        </tr>\n",
              "        <tr>\n",
              "            <td>The Spicy Italian Pizza</td>\n",
              "            <td>34831.25</td>\n",
              "        </tr>\n",
              "    </tbody>\n",
              "</table>"
            ],
            "text/plain": [
              "[('The Thai Chicken Pizza', 43434.25),\n",
              " ('The Barbecue Chicken Pizza', 42768.0),\n",
              " ('The California Chicken Pizza', 41409.5),\n",
              " ('The Classic Deluxe Pizza', 38180.5),\n",
              " ('The Spicy Italian Pizza', 34831.25)]"
            ]
          },
          "execution_count": 98,
          "metadata": {},
          "output_type": "execute_result"
        }
      ],
      "source": [
        "%%sql\n",
        "\n",
        "SELECT TOP 5 pizza_name,ROUND(SUM(total_price),2) as revenue\n",
        "FROM pizza_sales\n",
        "\n",
        "group by pizza_name\n",
        "ORDER BY revenue DESC\n"
      ]
    },
    {
      "cell_type": "markdown",
      "id": "6e20e4b4",
      "metadata": {
        "id": "6e20e4b4"
      },
      "source": [
        "### Bottom 5 pizza  by Revenue"
      ]
    },
    {
      "cell_type": "code",
      "execution_count": null,
      "id": "3c8c546d",
      "metadata": {
        "scrolled": true,
        "id": "3c8c546d",
        "outputId": "a343c6a8-b906-4013-dbca-7aae4a6523d1"
      },
      "outputs": [
        {
          "name": "stdout",
          "output_type": "stream",
          "text": [
            " * mssql+pyodbc:///?odbc_connect=DRIVER%3DODBC+Driver+17+for+SQL+Server%3BSERVER%3Dmhpolas.database.windows.net%3BDATABASE%3Dsql_practice%3BUID%3Dmhpolas%3BPWD%3D%40VBHMAINULH786\n",
            "Done.\n"
          ]
        },
        {
          "data": {
            "text/html": [
              "<table>\n",
              "    <thead>\n",
              "        <tr>\n",
              "            <th>pizza_name</th>\n",
              "            <th>revenue</th>\n",
              "        </tr>\n",
              "    </thead>\n",
              "    <tbody>\n",
              "        <tr>\n",
              "            <td>The Brie Carre Pizza</td>\n",
              "            <td>11588.5</td>\n",
              "        </tr>\n",
              "        <tr>\n",
              "            <td>The Green Garden Pizza</td>\n",
              "            <td>13955.75</td>\n",
              "        </tr>\n",
              "        <tr>\n",
              "            <td>The Spinach Supreme Pizza</td>\n",
              "            <td>15277.75</td>\n",
              "        </tr>\n",
              "        <tr>\n",
              "            <td>The Mediterranean Pizza</td>\n",
              "            <td>15360.5</td>\n",
              "        </tr>\n",
              "        <tr>\n",
              "            <td>The Spinach Pesto Pizza</td>\n",
              "            <td>15596.0</td>\n",
              "        </tr>\n",
              "    </tbody>\n",
              "</table>"
            ],
            "text/plain": [
              "[('The Brie Carre Pizza', 11588.5),\n",
              " ('The Green Garden Pizza', 13955.75),\n",
              " ('The Spinach Supreme Pizza', 15277.75),\n",
              " ('The Mediterranean Pizza', 15360.5),\n",
              " ('The Spinach Pesto Pizza', 15596.0)]"
            ]
          },
          "execution_count": 97,
          "metadata": {},
          "output_type": "execute_result"
        }
      ],
      "source": [
        "%%sql\n",
        "\n",
        "SELECT TOP 5 pizza_name,ROUND(SUM(total_price),2) as revenue\n",
        "FROM pizza_sales\n",
        "\n",
        "group by pizza_name\n",
        "ORDER BY revenue ASC"
      ]
    },
    {
      "cell_type": "markdown",
      "id": "6430a867",
      "metadata": {
        "id": "6430a867"
      },
      "source": [
        "### Top 5 Pizzas by Quan�ty"
      ]
    },
    {
      "cell_type": "code",
      "execution_count": null,
      "id": "c73399e3",
      "metadata": {
        "id": "c73399e3",
        "outputId": "3336add8-3041-464c-fdfb-563faab82dbd"
      },
      "outputs": [
        {
          "name": "stdout",
          "output_type": "stream",
          "text": [
            " * mssql+pyodbc:///?odbc_connect=DRIVER%3DODBC+Driver+17+for+SQL+Server%3BSERVER%3Dmhpolas.database.windows.net%3BDATABASE%3Dsql_practice%3BUID%3Dmhpolas%3BPWD%3D%40VBHMAINULH786\n",
            "Done.\n"
          ]
        },
        {
          "data": {
            "text/html": [
              "<table>\n",
              "    <thead>\n",
              "        <tr>\n",
              "            <th>pizza_name</th>\n",
              "            <th>quantity</th>\n",
              "        </tr>\n",
              "    </thead>\n",
              "    <tbody>\n",
              "        <tr>\n",
              "            <td>The Classic Deluxe Pizza</td>\n",
              "            <td>2453</td>\n",
              "        </tr>\n",
              "        <tr>\n",
              "            <td>The Barbecue Chicken Pizza</td>\n",
              "            <td>2432</td>\n",
              "        </tr>\n",
              "        <tr>\n",
              "            <td>The Hawaiian Pizza</td>\n",
              "            <td>2422</td>\n",
              "        </tr>\n",
              "        <tr>\n",
              "            <td>The Pepperoni Pizza</td>\n",
              "            <td>2418</td>\n",
              "        </tr>\n",
              "        <tr>\n",
              "            <td>The Thai Chicken Pizza</td>\n",
              "            <td>2371</td>\n",
              "        </tr>\n",
              "    </tbody>\n",
              "</table>"
            ],
            "text/plain": [
              "[('The Classic Deluxe Pizza', 2453),\n",
              " ('The Barbecue Chicken Pizza', 2432),\n",
              " ('The Hawaiian Pizza', 2422),\n",
              " ('The Pepperoni Pizza', 2418),\n",
              " ('The Thai Chicken Pizza', 2371)]"
            ]
          },
          "execution_count": 96,
          "metadata": {},
          "output_type": "execute_result"
        }
      ],
      "source": [
        "%%sql\n",
        "\n",
        "SELECT TOP 5 pizza_name,ROUND(SUM(quantity),2) as quantity\n",
        "FROM pizza_sales\n",
        "group by pizza_name\n",
        "ORDER BY quantity DESC"
      ]
    },
    {
      "cell_type": "markdown",
      "id": "ee3099e7",
      "metadata": {
        "id": "ee3099e7"
      },
      "source": [
        "### Botom 5 Pizzas by Quan�ty"
      ]
    },
    {
      "cell_type": "code",
      "execution_count": null,
      "id": "2c84a061",
      "metadata": {
        "id": "2c84a061",
        "outputId": "ad55af30-76de-43a0-c4bc-bc718caf4d88"
      },
      "outputs": [
        {
          "name": "stdout",
          "output_type": "stream",
          "text": [
            " * mssql+pyodbc:///?odbc_connect=DRIVER%3DODBC+Driver+17+for+SQL+Server%3BSERVER%3Dmhpolas.database.windows.net%3BDATABASE%3Dsql_practice%3BUID%3Dmhpolas%3BPWD%3D%40VBHMAINULH786\n",
            "Done.\n"
          ]
        },
        {
          "data": {
            "text/html": [
              "<table>\n",
              "    <thead>\n",
              "        <tr>\n",
              "            <th>pizza_name</th>\n",
              "            <th>quantity</th>\n",
              "        </tr>\n",
              "    </thead>\n",
              "    <tbody>\n",
              "        <tr>\n",
              "            <td>The Brie Carre Pizza</td>\n",
              "            <td>490</td>\n",
              "        </tr>\n",
              "        <tr>\n",
              "            <td>The Mediterranean Pizza</td>\n",
              "            <td>934</td>\n",
              "        </tr>\n",
              "        <tr>\n",
              "            <td>The Calabrese Pizza</td>\n",
              "            <td>937</td>\n",
              "        </tr>\n",
              "        <tr>\n",
              "            <td>The Spinach Supreme Pizza</td>\n",
              "            <td>950</td>\n",
              "        </tr>\n",
              "        <tr>\n",
              "            <td>The Soppressata Pizza</td>\n",
              "            <td>961</td>\n",
              "        </tr>\n",
              "    </tbody>\n",
              "</table>"
            ],
            "text/plain": [
              "[('The Brie Carre Pizza', 490),\n",
              " ('The Mediterranean Pizza', 934),\n",
              " ('The Calabrese Pizza', 937),\n",
              " ('The Spinach Supreme Pizza', 950),\n",
              " ('The Soppressata Pizza', 961)]"
            ]
          },
          "execution_count": 94,
          "metadata": {},
          "output_type": "execute_result"
        }
      ],
      "source": [
        "%%sql\n",
        "\n",
        "SELECT TOP 5 pizza_name,ROUND(SUM(quantity),2) as quantity\n",
        "FROM pizza_sales\n",
        "group by pizza_name\n",
        "ORDER BY quantity ASC"
      ]
    },
    {
      "cell_type": "markdown",
      "id": "d8fe48fe",
      "metadata": {
        "id": "d8fe48fe"
      },
      "source": [
        "### Top 5 Pizzas by Total Orders"
      ]
    },
    {
      "cell_type": "code",
      "execution_count": null,
      "id": "94467626",
      "metadata": {
        "id": "94467626",
        "outputId": "c2bfe1ff-3936-4601-e25b-5abaf34bb1df"
      },
      "outputs": [
        {
          "name": "stdout",
          "output_type": "stream",
          "text": [
            " * mssql+pyodbc:///?odbc_connect=DRIVER%3DODBC+Driver+17+for+SQL+Server%3BSERVER%3Dmhpolas.database.windows.net%3BDATABASE%3Dsql_practice%3BUID%3Dmhpolas%3BPWD%3D%40VBHMAINULH786\n",
            "Done.\n"
          ]
        },
        {
          "data": {
            "text/html": [
              "<table>\n",
              "    <thead>\n",
              "        <tr>\n",
              "            <th>pizza_namE</th>\n",
              "            <th>order_count</th>\n",
              "        </tr>\n",
              "    </thead>\n",
              "    <tbody>\n",
              "        <tr>\n",
              "            <td>The Classic Deluxe Pizza</td>\n",
              "            <td>2329</td>\n",
              "        </tr>\n",
              "        <tr>\n",
              "            <td>The Hawaiian Pizza</td>\n",
              "            <td>2280</td>\n",
              "        </tr>\n",
              "        <tr>\n",
              "            <td>The Pepperoni Pizza</td>\n",
              "            <td>2278</td>\n",
              "        </tr>\n",
              "        <tr>\n",
              "            <td>The Barbecue Chicken Pizza</td>\n",
              "            <td>2273</td>\n",
              "        </tr>\n",
              "        <tr>\n",
              "            <td>The Thai Chicken Pizza</td>\n",
              "            <td>2225</td>\n",
              "        </tr>\n",
              "    </tbody>\n",
              "</table>"
            ],
            "text/plain": [
              "[('The Classic Deluxe Pizza', 2329),\n",
              " ('The Hawaiian Pizza', 2280),\n",
              " ('The Pepperoni Pizza', 2278),\n",
              " ('The Barbecue Chicken Pizza', 2273),\n",
              " ('The Thai Chicken Pizza', 2225)]"
            ]
          },
          "execution_count": 99,
          "metadata": {},
          "output_type": "execute_result"
        }
      ],
      "source": [
        "%%sql\n",
        "SELECT TOP 5 pizza_namE, COUNT(DISTINCT order_id) as order_count\n",
        "FROM pizza_sales\n",
        "group by pizza_name\n",
        "ORDER BY order_count DESC"
      ]
    },
    {
      "cell_type": "markdown",
      "id": "37d95ef6",
      "metadata": {
        "id": "37d95ef6"
      },
      "source": [
        "### Bottom 5 Pizzas by Total Orders"
      ]
    },
    {
      "cell_type": "code",
      "execution_count": null,
      "id": "ca0301c9",
      "metadata": {
        "id": "ca0301c9",
        "outputId": "5c125167-ddd5-4738-a8ce-f9bf9b004af9"
      },
      "outputs": [
        {
          "name": "stdout",
          "output_type": "stream",
          "text": [
            " * mssql+pyodbc:///?odbc_connect=DRIVER%3DODBC+Driver+17+for+SQL+Server%3BSERVER%3Dmhpolas.database.windows.net%3BDATABASE%3Dsql_practice%3BUID%3Dmhpolas%3BPWD%3D%40VBHMAINULH786\n",
            "Done.\n"
          ]
        },
        {
          "data": {
            "text/html": [
              "<table>\n",
              "    <thead>\n",
              "        <tr>\n",
              "            <th>pizza_namE</th>\n",
              "            <th>order_count</th>\n",
              "        </tr>\n",
              "    </thead>\n",
              "    <tbody>\n",
              "        <tr>\n",
              "            <td>The Brie Carre Pizza</td>\n",
              "            <td>480</td>\n",
              "        </tr>\n",
              "        <tr>\n",
              "            <td>The Mediterranean Pizza</td>\n",
              "            <td>912</td>\n",
              "        </tr>\n",
              "        <tr>\n",
              "            <td>The Spinach Supreme Pizza</td>\n",
              "            <td>918</td>\n",
              "        </tr>\n",
              "        <tr>\n",
              "            <td>The Calabrese Pizza</td>\n",
              "            <td>918</td>\n",
              "        </tr>\n",
              "        <tr>\n",
              "            <td>The Chicken Pesto Pizza</td>\n",
              "            <td>938</td>\n",
              "        </tr>\n",
              "    </tbody>\n",
              "</table>"
            ],
            "text/plain": [
              "[('The Brie Carre Pizza', 480),\n",
              " ('The Mediterranean Pizza', 912),\n",
              " ('The Spinach Supreme Pizza', 918),\n",
              " ('The Calabrese Pizza', 918),\n",
              " ('The Chicken Pesto Pizza', 938)]"
            ]
          },
          "execution_count": 100,
          "metadata": {},
          "output_type": "execute_result"
        }
      ],
      "source": [
        "%%sql\n",
        "SELECT TOP 5 pizza_namE, COUNT(DISTINCT order_id) as order_count\n",
        "FROM pizza_sales\n",
        "group by pizza_name\n",
        "ORDER BY order_count ASC"
      ]
    },
    {
      "cell_type": "markdown",
      "id": "3daa63c5",
      "metadata": {
        "id": "3daa63c5"
      },
      "source": [
        "### Top 5 Pizzas by Total Orders ON SPECIFIC CATEGORY"
      ]
    },
    {
      "cell_type": "code",
      "execution_count": null,
      "id": "1828abc0",
      "metadata": {
        "id": "1828abc0",
        "outputId": "f6e10233-909a-4fd5-b50c-d39ca0bbc99d"
      },
      "outputs": [
        {
          "name": "stdout",
          "output_type": "stream",
          "text": [
            " * mssql+pyodbc:///?odbc_connect=DRIVER%3DODBC+Driver+17+for+SQL+Server%3BSERVER%3Dmhpolas.database.windows.net%3BDATABASE%3Dsql_practice%3BUID%3Dmhpolas%3BPWD%3D%40VBHMAINULH786\n",
            "Done.\n"
          ]
        },
        {
          "data": {
            "text/html": [
              "<table>\n",
              "    <thead>\n",
              "        <tr>\n",
              "            <th>pizza_namE</th>\n",
              "            <th>order_count</th>\n",
              "        </tr>\n",
              "    </thead>\n",
              "    <tbody>\n",
              "        <tr>\n",
              "            <td>The Spicy Italian Pizza</td>\n",
              "            <td>1822</td>\n",
              "        </tr>\n",
              "        <tr>\n",
              "            <td>The Sicilian Pizza</td>\n",
              "            <td>1820</td>\n",
              "        </tr>\n",
              "        <tr>\n",
              "            <td>The Italian Supreme Pizza</td>\n",
              "            <td>1791</td>\n",
              "        </tr>\n",
              "        <tr>\n",
              "            <td>The Prosciutto and Arugula Pizza</td>\n",
              "            <td>1398</td>\n",
              "        </tr>\n",
              "        <tr>\n",
              "            <td>The Pepper Salami Pizza</td>\n",
              "            <td>1383</td>\n",
              "        </tr>\n",
              "    </tbody>\n",
              "</table>"
            ],
            "text/plain": [
              "[('The Spicy Italian Pizza', 1822),\n",
              " ('The Sicilian Pizza', 1820),\n",
              " ('The Italian Supreme Pizza', 1791),\n",
              " ('The Prosciutto and Arugula Pizza', 1398),\n",
              " ('The Pepper Salami Pizza', 1383)]"
            ]
          },
          "execution_count": 102,
          "metadata": {},
          "output_type": "execute_result"
        }
      ],
      "source": [
        "%%sql\n",
        "SELECT TOP 5 pizza_namE, COUNT(DISTINCT order_id) as order_count\n",
        "FROM pizza_sales\n",
        "WHERE pizza_category='Supreme'\n",
        "group by pizza_name\n",
        "ORDER BY order_count DESC"
      ]
    },
    {
      "cell_type": "code",
      "execution_count": null,
      "id": "037a74cf",
      "metadata": {
        "id": "037a74cf"
      },
      "outputs": [],
      "source": []
    }
  ],
  "metadata": {
    "kernelspec": {
      "display_name": "Python 3 (ipykernel)",
      "language": "python",
      "name": "python3"
    },
    "language_info": {
      "codemirror_mode": {
        "name": "ipython",
        "version": 3
      },
      "file_extension": ".py",
      "mimetype": "text/x-python",
      "name": "python",
      "nbconvert_exporter": "python",
      "pygments_lexer": "ipython3",
      "version": "3.10.10"
    },
    "colab": {
      "provenance": []
    }
  },
  "nbformat": 4,
  "nbformat_minor": 5
}